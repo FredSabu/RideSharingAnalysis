{
 "cells": [
  {
   "cell_type": "code",
   "execution_count": 5,
   "id": "28590075",
   "metadata": {},
   "outputs": [],
   "source": [
    "import pandas as pd\n",
    "df = pd.read_csv(\"CarSharing_Preprocessed.csv\")"
   ]
  },
  {
   "cell_type": "code",
   "execution_count": 6,
   "id": "953aae40",
   "metadata": {},
   "outputs": [
    {
     "name": "stdout",
     "output_type": "stream",
     "text": [
      "\n",
      "Spearmans:\n",
      "Spearman's correlation for temp vs demand: Correlation coefficient = 0.43844572215931016, p-value = 0.0\n",
      "Spearman's correlation for temp_feel vs demand: Correlation coefficient = 0.44102614045558325, p-value = 0.0\n",
      "Spearman's correlation for humidity vs demand: Correlation coefficient = -0.35812997188117063, p-value = 7.73530011757583e-262\n",
      "Spearman's correlation for windspeed vs demand: Correlation coefficient = 0.1359876278300755, p-value = 3.225447389750297e-37\n",
      "\n",
      "Mann-Whitney:\n",
      "Mann-Whitney U test for holiday vs demand: U-statistic = 1027283.5, p-value = 0.6909487336672528\n",
      "Mann-Whitney U test for workingday vs demand: U-statistic = 8230365.0, p-value = 0.827954509566204\n",
      "\n",
      "kruskal:\n",
      "Kruskal-Wallis H test for season vs demand: H-statistic = 573.2373249072575, p-value = 6.382038538465807e-124\n",
      "Kruskal-Wallis H test for weather vs demand: H-statistic = 198.87050806598123, p-value = 7.399641641145851e-43\n",
      "\n",
      "\n"
     ]
    }
   ],
   "source": [
    "from scipy.stats import spearmanr\n",
    "\n",
    "# Spearman's Correlation for numerical columns\n",
    "print(\"\\nSpearmans:\")\n",
    "for column in ['temp', 'temp_feel', 'humidity', 'windspeed']:\n",
    "    spearman_corr, p_value = spearmanr(df[column], df['demand'])\n",
    "    print(f\"Spearman's correlation for {column} vs demand: Correlation coefficient = {spearman_corr}, p-value = {p_value}\")\n",
    "\n",
    "from scipy.stats import mannwhitneyu\n",
    "\n",
    "# Mann-Whitney U Test for 'holiday' and 'workingday' since they have two categories (Yes/No)\n",
    "print(\"\\nMann-Whitney:\")\n",
    "for column in ['holiday', 'workingday']:\n",
    "    categories = df[column].unique()\n",
    "    group1 = df[df[column] == categories[0]]['demand']\n",
    "    group2 = df[df[column] == categories[1]]['demand']\n",
    "    \n",
    "    stat, p_value = mannwhitneyu(group1, group2)\n",
    "    print(f\"Mann-Whitney U test for {column} vs demand: U-statistic = {stat}, p-value = {p_value}\")\n",
    "\n",
    "from scipy.stats import kruskal\n",
    "\n",
    "# Kruskal-Wallis H Test for 'season' and 'weather' since they have more than two categories\n",
    "print(\"\\nkruskal:\")\n",
    "for column in ['season', 'weather']:\n",
    "    groups = [df['demand'][df[column] == category].values for category in df[column].unique()]\n",
    "    stat, p_value = kruskal(*groups)\n",
    "    print(f\"Kruskal-Wallis H test for {column} vs demand: H-statistic = {stat}, p-value = {p_value}\")\n",
    "print(\"\\n\")"
   ]
  }
 ],
 "metadata": {
  "kernelspec": {
   "display_name": "Python 3 (ipykernel)",
   "language": "python",
   "name": "python3"
  },
  "language_info": {
   "codemirror_mode": {
    "name": "ipython",
    "version": 3
   },
   "file_extension": ".py",
   "mimetype": "text/x-python",
   "name": "python",
   "nbconvert_exporter": "python",
   "pygments_lexer": "ipython3",
   "version": "3.11.4"
  }
 },
 "nbformat": 4,
 "nbformat_minor": 5
}
