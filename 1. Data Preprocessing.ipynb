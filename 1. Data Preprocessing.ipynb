{
 "cells": [
  {
   "cell_type": "code",
   "execution_count": 4,
   "id": "55302abc",
   "metadata": {},
   "outputs": [],
   "source": [
    "import pandas as pd\n",
    "import matplotlib.pyplot as plt\n",
    "import seaborn as sns\n",
    "import matplotlib.dates as mdates"
   ]
  },
  {
   "cell_type": "code",
   "execution_count": 5,
   "id": "537906ed",
   "metadata": {},
   "outputs": [
    {
     "name": "stdout",
     "output_type": "stream",
     "text": [
      "\n",
      "Number of duplicate rows: 0\n",
      "\n",
      "Number of rows with more than 1 missing value: 20\n",
      "\n",
      "\n",
      "Column 'id' has 0 missing values\n",
      "Column 'timestamp' has 0 missing values\n",
      "Column 'season' has 0 missing values\n",
      "Column 'holiday' has 0 missing values\n",
      "Column 'workingday' has 0 missing values\n",
      "Column 'weather' has 0 missing values\n",
      "Column 'temp' has 1202 missing values\n",
      "Column 'temp_feel' has 102 missing values\n",
      "Column 'humidity' has 39 missing values\n",
      "Column 'windspeed' has 200 missing values\n",
      "Column 'demand' has 0 missing values\n"
     ]
    }
   ],
   "source": [
    "# Reading CSV\n",
    "df = pd.read_csv(\"CarSharing.csv\")\n",
    "\n",
    "# Converting categories to numbers\n",
    "categorical_columns = ['season', 'holiday', 'workingday', 'weather']\n",
    "for column in categorical_columns:\n",
    "    df[column] = df[column].astype('category').cat.codes\n",
    "\n",
    "# Identifying duplicate Rows\n",
    "duplicates = df.duplicated()\n",
    "num_duplicates = duplicates.sum()\n",
    "print(f\"\\nNumber of duplicate rows: {num_duplicates}\")\n",
    "\n",
    "# Counting Missing Values by Row\n",
    "rows_with_multiple_missing = 0\n",
    "for _, row in df.iterrows():\n",
    "    num_missing = row.isnull().sum()\n",
    "    if num_missing > 1:\n",
    "        rows_with_multiple_missing += 1\n",
    "print(f\"\\nNumber of rows with more than 1 missing value: {rows_with_multiple_missing}\")\n",
    "\n",
    "# Counting Missing Values Column\n",
    "missing_values_per_column = df.isnull().sum()\n",
    "print(\"\\n\")\n",
    "for column, num_missing in missing_values_per_column.items():\n",
    "    print(f\"Column '{column}' has {num_missing} missing values\")\n",
    "\n",
    "# Interpolating Missing Data for Specific Columns\n",
    "columns_to_interpolate = ['temp', 'temp_feel', 'humidity', 'windspeed']\n",
    "for column in columns_to_interpolate:\n",
    "    df[column] = df[column].interpolate(method='linear', limit_direction='forward', axis=0)\n",
    "\n",
    "# New CSV is created\n",
    "df.to_csv('CarSharing_Preprocessed.csv', index=False)\n"
   ]
  }
 ],
 "metadata": {
  "kernelspec": {
   "display_name": "Python 3 (ipykernel)",
   "language": "python",
   "name": "python3"
  },
  "language_info": {
   "codemirror_mode": {
    "name": "ipython",
    "version": 3
   },
   "file_extension": ".py",
   "mimetype": "text/x-python",
   "name": "python",
   "nbconvert_exporter": "python",
   "pygments_lexer": "ipython3",
   "version": "3.11.4"
  }
 },
 "nbformat": 4,
 "nbformat_minor": 5
}
