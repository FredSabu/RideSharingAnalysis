{
 "cells": [
  {
   "cell_type": "code",
   "execution_count": 3,
   "id": "56aed68f",
   "metadata": {},
   "outputs": [],
   "source": [
    "import pandas as pd\n",
    "from sklearn.model_selection import train_test_split\n",
    "from sklearn.preprocessing import LabelEncoder, StandardScaler\n",
    "from sklearn.neighbors import KNeighborsClassifier\n",
    "from sklearn.tree import DecisionTreeClassifier\n",
    "from sklearn.ensemble import RandomForestClassifier\n",
    "from sklearn.metrics import accuracy_score\n",
    "from sklearn.pipeline import make_pipeline"
   ]
  },
  {
   "cell_type": "code",
   "execution_count": 4,
   "id": "d75b4866",
   "metadata": {},
   "outputs": [],
   "source": [
    "# Data Loading and Preprocessing\n",
    "file_path = 'CarSharing_Preprocessed.csv' \n",
    "df = pd.read_csv(file_path)\n",
    "df['timestamp'] = pd.to_datetime(df['timestamp'])\n",
    "df.set_index('timestamp', inplace=True)"
   ]
  },
  {
   "cell_type": "code",
   "execution_count": 5,
   "id": "9a69031e",
   "metadata": {},
   "outputs": [
    {
     "name": "stdout",
     "output_type": "stream",
     "text": [
      "\n",
      "\n",
      "K-Nearest Neighbors Accuracy: 0.8458\n",
      "Decision Tree Accuracy: 0.8860\n",
      "Random Forest Accuracy: 0.9204\n"
     ]
    }
   ],
   "source": [
    "# Feature Engineering\n",
    "label_encoder = LabelEncoder()\n",
    "df['season'] = label_encoder.fit_transform(df['season'])\n",
    "df['holiday'] = label_encoder.fit_transform(df['holiday'])\n",
    "df['workingday'] = label_encoder.fit_transform(df['workingday'])\n",
    "df['weather'] = label_encoder.fit_transform(df['weather'])\n",
    "df['hour'] = df.index.hour\n",
    "df['day_of_week'] = df.index.dayofweek\n",
    "df['month'] = df.index.month\n",
    "\n",
    "# Target Variable\n",
    "average_demand = df['demand'].mean()\n",
    "df['demand_category'] = df['demand'].apply(lambda x: 1 if x > average_demand else 2)\n",
    "\n",
    "\n",
    "# Data Preparation for Model Training\n",
    "X = df.drop(['id', 'demand', 'demand_category'], axis=1) \n",
    "y = df['demand_category']\n",
    "X_train, X_test, y_train, y_test = train_test_split(X, y, test_size=0.3, random_state=42)\n",
    "\n",
    "\n",
    "# Model Initialisation and Pipeline Creation\n",
    "knn = make_pipeline(StandardScaler(), KNeighborsClassifier(n_neighbors=5))\n",
    "dt = DecisionTreeClassifier()\n",
    "rf = RandomForestClassifier(n_estimators=100)\n",
    "print(\"\\n\")\n",
    "\n",
    "\n",
    "# Model Training and Evaluation\n",
    "classifiers = {\n",
    "    'K-Nearest Neighbors': knn,\n",
    "    'Decision Tree': dt,\n",
    "    'Random Forest': rf\n",
    "}\n",
    "\n",
    "for name, clf in classifiers.items():\n",
    "    clf.fit(X_train, y_train)  \n",
    "    y_pred = clf.predict(X_test)  \n",
    "    accuracy = accuracy_score(y_test, y_pred)  \n",
    "    print(f'{name} Accuracy: {accuracy:.4f}')\n"
   ]
  }
 ],
 "metadata": {
  "kernelspec": {
   "display_name": "Python 3 (ipykernel)",
   "language": "python",
   "name": "python3"
  },
  "language_info": {
   "codemirror_mode": {
    "name": "ipython",
    "version": 3
   },
   "file_extension": ".py",
   "mimetype": "text/x-python",
   "name": "python",
   "nbconvert_exporter": "python",
   "pygments_lexer": "ipython3",
   "version": "3.11.4"
  }
 },
 "nbformat": 4,
 "nbformat_minor": 5
}
